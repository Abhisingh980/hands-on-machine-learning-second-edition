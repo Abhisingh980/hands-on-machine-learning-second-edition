{
  "cells": [
    {
      "cell_type": "markdown",
      "source": "Question 1",
      "metadata": {
        "formattedRanges": [
          {
            "type": "marks",
            "marks": {
              "bold": true
            },
            "toCodePoint": 10,
            "fromCodePoint": 0
          }
        ],
        "cell_id": "e1bde64983564cc6a952390d70d67a31",
        "deepnote_cell_type": "text-cell-p"
      },
      "block_group": "6f5976c1ac5b42aa9e741f0f49b8aba5"
    },
    {
      "cell_type": "markdown",
      "source": "T1 a b c e",
      "metadata": {
        "formattedRanges": [
          {
            "type": "marks",
            "marks": {
              "bold": true
            },
            "toCodePoint": 10,
            "fromCodePoint": 0
          }
        ],
        "cell_id": "c213cb3cd5124ef4a0bdbf50927661d4",
        "deepnote_cell_type": "text-cell-p"
      },
      "block_group": "bde6ec5b318a4d01830b31d36377d4be"
    },
    {
      "cell_type": "markdown",
      "source": " T2 b d f ",
      "metadata": {
        "formattedRanges": [
          {
            "type": "marks",
            "marks": {
              "bold": true
            },
            "toCodePoint": 10,
            "fromCodePoint": 0
          }
        ],
        "cell_id": "a44dee8190214f4aae5f4e6b7ec89cb0",
        "deepnote_cell_type": "text-cell-p"
      },
      "block_group": "04017808ecaa4847b3c18dacb5d6ee61"
    },
    {
      "cell_type": "markdown",
      "source": "T3 a c d f",
      "metadata": {
        "formattedRanges": [
          {
            "type": "marks",
            "marks": {
              "bold": true
            },
            "toCodePoint": 10,
            "fromCodePoint": 0
          }
        ],
        "cell_id": "443559afa7e1480f813640b134092fe8",
        "deepnote_cell_type": "text-cell-p"
      },
      "block_group": "b0783750ccb347229b0c4f36d09c9893"
    },
    {
      "cell_type": "markdown",
      "source": " T4 d f\nT5 c d e\n",
      "metadata": {
        "formattedRanges": [
          {
            "type": "marks",
            "marks": {
              "bold": true
            },
            "toCodePoint": 17,
            "fromCodePoint": 0
          }
        ],
        "cell_id": "1e045153712d4d03a1e5628b22eddb51",
        "deepnote_cell_type": "text-cell-p"
      },
      "block_group": "2b18e42a13814d938c3ede7f9e6a3449"
    },
    {
      "cell_type": "code",
      "source": "import itertools as it\nt1 = ['a','b','c','e']\nt2 = ['b','d','f']\nt3 = ['a','c','d','f']\nt4 = ['d','f']\nt5 = ['c','d','e']\nlist_items = []\nlist_items.extend(t1+t2+t3+t4+t5)\nitem_set = list(set(list_items))\nresult = []\nfor i in range(len(item_set)):\n    commbination = it.combinations(item_set,i+1)\n    result.extend(list(commbination))\nresult = [''.join(itemset) for itemset in result]\nprint(result)\n\n",
      "metadata": {
        "source_hash": null,
        "execution_start": 1711204605273,
        "execution_millis": 134,
        "deepnote_to_be_reexecuted": false,
        "cell_id": "c16f0f74b11b4c6ca57398ad02ab2c1d",
        "deepnote_cell_type": "code"
      },
      "outputs": [
        {
          "name": "stdout",
          "text": "['e', 'd', 'f', 'c', 'a', 'b', 'ed', 'ef', 'ec', 'ea', 'eb', 'df', 'dc', 'da', 'db', 'fc', 'fa', 'fb', 'ca', 'cb', 'ab', 'edf', 'edc', 'eda', 'edb', 'efc', 'efa', 'efb', 'eca', 'ecb', 'eab', 'dfc', 'dfa', 'dfb', 'dca', 'dcb', 'dab', 'fca', 'fcb', 'fab', 'cab', 'edfc', 'edfa', 'edfb', 'edca', 'edcb', 'edab', 'efca', 'efcb', 'efab', 'ecab', 'dfca', 'dfcb', 'dfab', 'dcab', 'fcab', 'edfca', 'edfcb', 'edfab', 'edcab', 'efcab', 'dfcab', 'edfcab']\n",
          "output_type": "stream"
        }
      ],
      "outputs_reference": null,
      "execution_count": null,
      "block_group": "e67cfd44de3f432eaa7ae7648efffb48"
    },
    {
      "cell_type": "markdown",
      "source": "Question 2",
      "metadata": {
        "formattedRanges": [
          {
            "type": "marks",
            "marks": {
              "bold": true
            },
            "toCodePoint": 10,
            "fromCodePoint": 0
          }
        ],
        "cell_id": "6e173b589f154f20ad04aa4031216ea4",
        "deepnote_cell_type": "text-cell-p"
      },
      "block_group": "8566e1e059314f1e97c3770f83531e46"
    },
    {
      "cell_type": "markdown",
      "source": "Extract itemsets with sup>=minsup (from 1), consider minsup=2. Ex: a b c d e f ac ce df\n",
      "metadata": {
        "formattedRanges": [
          {
            "type": "marks",
            "marks": {
              "bold": true
            },
            "toCodePoint": 88,
            "fromCodePoint": 0
          }
        ],
        "cell_id": "ccc4c6565395416bb6c2fbf549bc6724",
        "deepnote_cell_type": "text-cell-p"
      },
      "block_group": "4eba1fdac5a44dba8b93c644caa537e1"
    },
    {
      "cell_type": "code",
      "source": "count = {}\nfor itemset in result:\n    count[itemset] = sum(1 for transaction in [t1, t2, t3, t4, t5] if all(item in transaction for item in itemset))\n\n# Extract itemsets with support >= minsup\nminsup = 2\nfrequent_itemsets = [itemset for itemset, support in count.items() if support >= minsup]\n\n# Output frequent itemsets\nprint(' '.join(frequent_itemsets))",
      "metadata": {
        "source_hash": null,
        "execution_start": 1711204610283,
        "execution_millis": 72,
        "deepnote_to_be_reexecuted": false,
        "cell_id": "1c55065664ff49459487a98fa245625a",
        "deepnote_cell_type": "code"
      },
      "outputs": [
        {
          "name": "stdout",
          "text": "e d f c a b ec df dc ca\n",
          "output_type": "stream"
        }
      ],
      "outputs_reference": null,
      "execution_count": null,
      "block_group": "0e36e2231383461e82ac0315149eb483"
    },
    {
      "cell_type": "markdown",
      "source": "# Question 3",
      "metadata": {
        "formattedRanges": [],
        "cell_id": "2f7eb3759ffc45d4813d3dd7a72eefe0",
        "deepnote_cell_type": "text-cell-h1"
      },
      "block_group": "fb0682051b834cf68c60a1915263bf1f"
    },
    {
      "cell_type": "markdown",
      "source": "",
      "metadata": {
        "formattedRanges": [],
        "cell_id": "7e28d0a469af424c9a3879a06ac097fc",
        "deepnote_cell_type": "text-cell-p"
      },
      "block_group": "990b305575294956884bfdff67926423"
    },
    {
      "cell_type": "code",
      "source": "transactions = [['a', 'b', 'c', 'e'],\n                ['b', 'd', 'f'],\n                ['a', 'c', 'd', 'f'],\n                ['d', 'f'],\n                ['c', 'd', 'e']]\n\n# Set minimum support threshold\nminsup = 2\n\n# Step 1: Initialization\nk = 1\n\n# Step 5: Repeat until no candidate k-itemsets are generated\nwhile True:\n    # Step 2: Generate Candidate k-Itemsets\n    if k == 1:\n        candidate_k_itemsets = set(it.chain(*transactions))\n    else:\n        candidate_k_itemsets = set(it.chain(*[it.combinations(set(frequent_itemset), k) \n                                                      for frequent_itemset in frequent_k_itemsets]))\n\n    # Step 3: Find Support of k-Itemsets\n    support_count = {itemset: sum(1 for transaction in transactions if set(itemset).issubset(transaction)) \n                     for itemset in candidate_k_itemsets}\n\n    # Step 4: Extract Frequent k-Itemsets\n    frequent_k_itemsets = [itemset for itemset, support in support_count.items() if support >= minsup]\n\n    # Output frequent k-itemsets\n    print(f\"Frequent {k}-Itemsets:\", frequent_k_itemsets)\n\n    # Increment k\n    k += 1\n\n    # Check if no candidate k-itemsets are generated\n    if not frequent_k_itemsets:\n        break",
      "metadata": {
        "source_hash": null,
        "execution_start": 1711205103498,
        "execution_millis": 118,
        "deepnote_to_be_reexecuted": false,
        "cell_id": "a9fbe04ef295410885940d7a56aae894",
        "deepnote_cell_type": "code"
      },
      "outputs": [
        {
          "name": "stdout",
          "text": "Frequent Itemsets:\n",
          "output_type": "stream"
        }
      ],
      "outputs_reference": null,
      "execution_count": null,
      "block_group": "898d4d64b8d84f918db410615ac14d94"
    },
    {
      "cell_type": "markdown",
      "source": "Question 4",
      "metadata": {
        "formattedRanges": [],
        "cell_id": "6e0890124a104c0caaa99f199948955c",
        "deepnote_cell_type": "text-cell-p"
      },
      "block_group": "c85afbe5624540859dc79538f54688f9"
    },
    {
      "cell_type": "code",
      "source": "import itertools\n\n# Function to generate candidate itemsets of size k+1 from frequent itemsets of size k\ndef generate_candidates(frequent_itemsets, k):\n    candidates = set()\n    for itemset1 in frequent_itemsets:\n        for itemset2 in frequent_itemsets:\n            if len(set(itemset1).union(itemset2)) == k + 1:\n                candidates.add(tuple(sorted(set(itemset1).union(itemset2))))\n    return candidates\n\n# Given transactions\ntransactions = [['a', 'b', 'c', 'e'],\n                ['b', 'd', 'f'],\n                ['a', 'c', 'd', 'f'],\n                ['d', 'f'],\n                ['c', 'd', 'e']]\n\n# Set minimum support threshold\nminsup = 3\n\n# Step 1: Initialization\nfrequent_itemsets = [{item} for item in set(itertools.chain(*transactions))]\nk = 1\n\n# Step 6: Repeat until no more frequent itemsets can be found\nwhile True:\n    # Step 2: Generate Candidate Itemsets\n    candidate_itemsets = generate_candidates(frequent_itemsets, k)\n    \n    # Step 3: Prune Infrequent Itemsets\n    pruned_candidates = []\n    for candidate in candidate_itemsets:\n        subsets = set(itertools.combinations(candidate, k))\n        if all(subset in frequent_itemsets for subset in subsets):\n            pruned_candidates.append(candidate)\n    \n    # Step 4: Count Support\n    support_count = {itemset: sum(1 for transaction in transactions if set(itemset).issubset(transaction)) \n                     for itemset in pruned_candidates}\n    \n    # Step 5: Extract Frequent Itemsets\n    frequent_itemsets = [itemset for itemset, support in support_count.items() if support >= minsup]\n\n    # Output frequent itemsets\n    print(f\"Frequent {k + 1}-Itemsets:\", frequent_itemsets)\n    \n    # Increment k\n    k += 1\n    \n    # Check if no more frequent itemsets can be found\n    if not frequent_itemsets:\n        break\n",
      "metadata": {
        "source_hash": null,
        "execution_start": 1711204976864,
        "execution_millis": 93,
        "deepnote_to_be_reexecuted": false,
        "cell_id": "9c125ecf00fd47ea8ce40886614eefe6",
        "deepnote_cell_type": "code"
      },
      "outputs": [
        {
          "name": "stdout",
          "text": "Frequent 2-Itemsets: []\n",
          "output_type": "stream"
        }
      ],
      "outputs_reference": null,
      "execution_count": null,
      "block_group": "90f08a3a44a74143914722deb260c214"
    },
    {
      "cell_type": "markdown",
      "source": "<a style='text-decoration:none;line-height:16px;display:flex;color:#5B5B62;padding:10px;justify-content:end;' href='https://deepnote.com?utm_source=created-in-deepnote-cell&projectId=9fcb408c-257d-4664-b332-b72bf303ace4' target=\"_blank\">\n<img alt='Created in deepnote.com' style='display:inline;max-height:16px;margin:0px;margin-right:7.5px;' src='data:image/svg+xml;base64,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' > </img>\nCreated in <span style='font-weight:600;margin-left:4px;'>Deepnote</span></a>",
      "metadata": {
        "created_in_deepnote_cell": true,
        "deepnote_cell_type": "markdown"
      }
    }
  ],
  "nbformat": 4,
  "nbformat_minor": 0,
  "metadata": {
    "deepnote_notebook_id": "08cff13a7875426a86b41473cd682559",
    "deepnote_execution_queue": []
  }
}