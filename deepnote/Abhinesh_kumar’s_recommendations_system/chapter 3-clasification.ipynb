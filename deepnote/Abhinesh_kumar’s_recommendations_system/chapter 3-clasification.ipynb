{
  "cells": [
    {
      "cell_type": "markdown",
      "source": "# loading a mnist dataset",
      "metadata": {
        "formattedRanges": [],
        "deepnote_app_block_visible": true,
        "cell_id": "101ec671c6e74f249013a11364484f39",
        "deepnote_cell_type": "text-cell-h1"
      },
      "block_group": "34a8e0963b8045cf8674b475d64a4f80"
    },
    {
      "cell_type": "markdown",
      "source": "# sgdg classifiers",
      "metadata": {
        "formattedRanges": [],
        "deepnote_app_block_visible": true,
        "cell_id": "9383d20b1a4b41f89411a5d845a76a91",
        "deepnote_cell_type": "text-cell-h1"
      },
      "block_group": "1b903d8d450c4cdda974d25ff004bad8"
    },
    {
      "cell_type": "code",
      "source": "import numpy as np",
      "metadata": {
        "source_hash": "c2602aa8",
        "execution_start": 1711622980274,
        "execution_millis": 29,
        "deepnote_to_be_reexecuted": false,
        "deepnote_app_block_visible": true,
        "cell_id": "b9e54e1c55e74385b263f9c1e8ffeb1f",
        "deepnote_cell_type": "code"
      },
      "outputs": [],
      "outputs_reference": null,
      "execution_count": 1,
      "block_group": "9eb7591f804c4c94a0a0022d94f9ead4"
    },
    {
      "cell_type": "code",
      "source": "from sklearn.datasets import fetch_openml\nmnist = fetch_openml('mnist_784',version=1)",
      "metadata": {
        "source_hash": "873dff3b",
        "execution_start": 1711622980274,
        "execution_millis": 45228,
        "deepnote_to_be_reexecuted": false,
        "deepnote_app_block_visible": true,
        "cell_id": "6c273d03bcf945a0a82da2803be479d3",
        "deepnote_cell_type": "code"
      },
      "outputs": [],
      "outputs_reference": null,
      "execution_count": 2,
      "block_group": "6c273d03bcf945a0a82da2803be479d3"
    },
    {
      "cell_type": "code",
      "source": "print(mnist.keys())",
      "metadata": {
        "source_hash": "ada54f55",
        "execution_start": 1711623025546,
        "execution_millis": 53,
        "deepnote_to_be_reexecuted": false,
        "deepnote_app_block_visible": true,
        "cell_id": "a3689f26651e4d7ab7e085f1ad208812",
        "deepnote_cell_type": "code"
      },
      "outputs": [
        {
          "name": "stdout",
          "text": "dict_keys(['data', 'target', 'frame', 'categories', 'feature_names', 'target_names', 'DESCR', 'details', 'url'])\n",
          "output_type": "stream"
        }
      ],
      "outputs_reference": null,
      "execution_count": 3,
      "block_group": "b62d3746f51d4e2188eddbcf193ed0d9"
    },
    {
      "cell_type": "markdown",
      "source": "only useable data is data and target",
      "metadata": {
        "formattedRanges": [],
        "deepnote_app_block_visible": true,
        "cell_id": "893a0faf5ff24c828e3fe0ff709beb98",
        "deepnote_cell_type": "text-cell-p"
      },
      "block_group": "d6bfdb9c2c1940538219eaa7578ec332"
    },
    {
      "cell_type": "code",
      "source": "x,y = mnist['data'],mnist['target']\nprint(x.shape)\nprint(y.shape)",
      "metadata": {
        "source_hash": "c0cb67d9",
        "execution_start": 1711623025547,
        "execution_millis": 52,
        "deepnote_to_be_reexecuted": false,
        "deepnote_app_block_visible": true,
        "cell_id": "a00e1917e13c4f86bc7c7d48f3be0ac2",
        "deepnote_cell_type": "code"
      },
      "outputs": [
        {
          "name": "stdout",
          "text": "(70000, 784)\n(70000,)\n",
          "output_type": "stream"
        }
      ],
      "outputs_reference": null,
      "execution_count": 4,
      "block_group": "72163fdbe18f45a39f8b647217d79d40"
    },
    {
      "cell_type": "code",
      "source": "x = x.to_numpy()\nprint(type(x))",
      "metadata": {
        "source_hash": "9334fc0c",
        "execution_start": 1711623025547,
        "execution_millis": 99,
        "deepnote_to_be_reexecuted": false,
        "deepnote_app_block_visible": true,
        "cell_id": "d00286572ef44415a18327b438fba156",
        "deepnote_cell_type": "code"
      },
      "outputs": [
        {
          "name": "stdout",
          "text": "<class 'numpy.ndarray'>\n",
          "output_type": "stream"
        }
      ],
      "outputs_reference": null,
      "execution_count": 5,
      "block_group": "d6d457194e8f4f73a6bb8737e8edb1a6"
    },
    {
      "cell_type": "code",
      "source": "",
      "metadata": {
        "source_hash": "b623e53d",
        "execution_start": 1711623025650,
        "execution_millis": 29,
        "deepnote_to_be_reexecuted": false,
        "deepnote_app_block_visible": true,
        "cell_id": "b11ad09ed3dd44f4bc3df20aa765de60",
        "deepnote_cell_type": "code"
      },
      "outputs": [],
      "outputs_reference": null,
      "execution_count": 5,
      "block_group": "28f26d58cdb94cfea60edc55bff9b831"
    },
    {
      "cell_type": "code",
      "source": "import matplotlib as mpl\nimport matplotlib.pyplot as plt",
      "metadata": {
        "source_hash": "13fe1b4d",
        "execution_start": 1711623025654,
        "execution_millis": 814,
        "deepnote_to_be_reexecuted": false,
        "deepnote_app_block_visible": true,
        "cell_id": "1df120216f37410181fd7a4394b4d280",
        "deepnote_cell_type": "code"
      },
      "outputs": [],
      "outputs_reference": null,
      "execution_count": 6,
      "block_group": "0f2cead20e434c78adec67c3d45aead2"
    },
    {
      "cell_type": "code",
      "source": "somedigit = x[0]\nsome_of_digit_image = somedigit.reshape(28,28)",
      "metadata": {
        "source_hash": "87228baa",
        "execution_start": 1711623026485,
        "execution_millis": 214,
        "deepnote_to_be_reexecuted": false,
        "deepnote_app_block_visible": true,
        "cell_id": "70bde390ea4f41d29897bccc9288c19d",
        "deepnote_cell_type": "code"
      },
      "outputs": [],
      "outputs_reference": null,
      "execution_count": 7,
      "block_group": "2ea75bb024ff4fd0bba8265cf18b88b7"
    },
    {
      "cell_type": "code",
      "source": "plt.figure(figsize=(2,2))\nplt.imshow(some_of_digit_image,cmap='binary')\nplt.axis('off')\nplt.show()",
      "metadata": {
        "source_hash": "b537f357",
        "execution_start": 1711623026485,
        "execution_millis": 214,
        "deepnote_to_be_reexecuted": false,
        "deepnote_app_block_visible": true,
        "cell_id": "d9e4b13a6a8a442bb0ad5c23ad14ae50",
        "deepnote_cell_type": "code"
      },
      "outputs": [
        {
          "data": {
            "text/plain": "<Figure size 200x200 with 1 Axes>",
            "image/png": "[encoded data removed]"
          },
          "metadata": {
            "image/png": {
              "width": 174,
              "height": 174
            }
          },
          "output_type": "display_data"
        }
      ],
      "outputs_reference": null,
      "execution_count": 8,
      "block_group": "eb71fca9ea4e426e9cbadf6e331b3ee8"
    },
    {
      "cell_type": "code",
      "source": "print(type(y))\ny = y.astype(dtype='Int64')\nprint(type(y[0]))",
      "metadata": {
        "source_hash": "8be887ec",
        "execution_start": 1711623026542,
        "execution_millis": 332,
        "deepnote_to_be_reexecuted": false,
        "deepnote_app_block_visible": true,
        "cell_id": "79a893333f66445b853e31ae74867576",
        "deepnote_cell_type": "code"
      },
      "outputs": [
        {
          "name": "stdout",
          "text": "<class 'pandas.core.series.Series'>\n<class 'numpy.int64'>\n",
          "output_type": "stream"
        }
      ],
      "outputs_reference": null,
      "execution_count": 9,
      "block_group": "eb71fca9ea4e426e9cbadf6e331b3ee8"
    },
    {
      "cell_type": "code",
      "source": "x_train,y_train,x_test,y_test = x[:60000],y[:60000],x[60000:],y[60000:]",
      "metadata": {
        "source_hash": "4b1dfe8e",
        "execution_start": 1711623026636,
        "execution_millis": 239,
        "deepnote_to_be_reexecuted": false,
        "deepnote_app_block_visible": true,
        "cell_id": "c98a3d5a88874152a503ee311d78466d",
        "deepnote_cell_type": "code"
      },
      "outputs": [],
      "outputs_reference": null,
      "execution_count": 10,
      "block_group": "1245d1017acb4853ab8053e6b81e9c2f"
    },
    {
      "cell_type": "code",
      "source": "x_train.shape,y_train.shape,x_test.shape,y_test.shape",
      "metadata": {
        "source_hash": "2f92b45e",
        "execution_start": 1711623026637,
        "execution_millis": 238,
        "deepnote_to_be_reexecuted": false,
        "deepnote_app_block_visible": true,
        "cell_id": "931f743fbf414e1a971dea5835e75521",
        "deepnote_cell_type": "code"
      },
      "outputs": [
        {
          "output_type": "execute_result",
          "execution_count": 11,
          "data": {
            "text/plain": "((60000, 784), (60000,), (10000, 784), (10000,))"
          },
          "metadata": {}
        }
      ],
      "outputs_reference": null,
      "execution_count": 11,
      "block_group": "e93d0c613e67462c8e9a18b223a02729"
    },
    {
      "cell_type": "code",
      "source": "y_train_5 = (y_train ==  5).astype('int')\ny_test_5 = (y_test == 5)",
      "metadata": {
        "source_hash": "3c5260cf",
        "execution_start": 1711623026642,
        "execution_millis": 233,
        "deepnote_to_be_reexecuted": false,
        "deepnote_app_block_visible": true,
        "cell_id": "c7faa698a0914d749de8ef9f67ada6ae",
        "deepnote_cell_type": "code"
      },
      "outputs": [],
      "outputs_reference": null,
      "execution_count": 12,
      "block_group": "2efb8c95667f4cd1851ea292aa8a9600"
    },
    {
      "cell_type": "code",
      "source": "print(type(y_train_5))",
      "metadata": {
        "source_hash": "2fac6861",
        "execution_start": 1711623026694,
        "execution_millis": 182,
        "deepnote_to_be_reexecuted": false,
        "deepnote_app_block_visible": true,
        "cell_id": "2b326cda9c534de6a1c39a526ac38037",
        "deepnote_cell_type": "code"
      },
      "outputs": [
        {
          "name": "stdout",
          "text": "<class 'pandas.core.series.Series'>\n",
          "output_type": "stream"
        }
      ],
      "outputs_reference": null,
      "execution_count": 13,
      "block_group": "2efb8c95667f4cd1851ea292aa8a9600"
    },
    {
      "cell_type": "code",
      "source": "from sklearn.linear_model import SGDClassifier\nsdg = SGDClassifier(random_state=42)\nsdg.fit(x_train,y_train_5)",
      "metadata": {
        "source_hash": "86335a39",
        "execution_start": 1711623026694,
        "execution_millis": 18710,
        "deepnote_to_be_reexecuted": false,
        "deepnote_app_block_visible": true,
        "cell_id": "695411a799c445058de71856db877e59",
        "deepnote_cell_type": "code"
      },
      "outputs": [
        {
          "output_type": "execute_result",
          "execution_count": 14,
          "data": {
            "text/plain": "SGDClassifier(random_state=42)",
            "text/html": "<style>#sk-container-id-1 {color: black;background-color: white;}#sk-container-id-1 pre{padding: 0;}#sk-container-id-1 div.sk-toggleable {background-color: white;}#sk-container-id-1 label.sk-toggleable__label {cursor: pointer;display: block;width: 100%;margin-bottom: 0;padding: 0.3em;box-sizing: border-box;text-align: center;}#sk-container-id-1 label.sk-toggleable__label-arrow:before {content: \"▸\";float: left;margin-right: 0.25em;color: #696969;}#sk-container-id-1 label.sk-toggleable__label-arrow:hover:before {color: black;}#sk-container-id-1 div.sk-estimator:hover label.sk-toggleable__label-arrow:before {color: black;}#sk-container-id-1 div.sk-toggleable__content {max-height: 0;max-width: 0;overflow: hidden;text-align: left;background-color: #f0f8ff;}#sk-container-id-1 div.sk-toggleable__content pre {margin: 0.2em;color: black;border-radius: 0.25em;background-color: #f0f8ff;}#sk-container-id-1 input.sk-toggleable__control:checked~div.sk-toggleable__content {max-height: 200px;max-width: 100%;overflow: auto;}#sk-container-id-1 input.sk-toggleable__control:checked~label.sk-toggleable__label-arrow:before {content: \"▾\";}#sk-container-id-1 div.sk-estimator input.sk-toggleable__control:checked~label.sk-toggleable__label {background-color: #d4ebff;}#sk-container-id-1 div.sk-label input.sk-toggleable__control:checked~label.sk-toggleable__label {background-color: #d4ebff;}#sk-container-id-1 input.sk-hidden--visually {border: 0;clip: rect(1px 1px 1px 1px);clip: rect(1px, 1px, 1px, 1px);height: 1px;margin: -1px;overflow: hidden;padding: 0;position: absolute;width: 1px;}#sk-container-id-1 div.sk-estimator {font-family: monospace;background-color: #f0f8ff;border: 1px dotted black;border-radius: 0.25em;box-sizing: border-box;margin-bottom: 0.5em;}#sk-container-id-1 div.sk-estimator:hover {background-color: #d4ebff;}#sk-container-id-1 div.sk-parallel-item::after {content: \"\";width: 100%;border-bottom: 1px solid gray;flex-grow: 1;}#sk-container-id-1 div.sk-label:hover label.sk-toggleable__label {background-color: #d4ebff;}#sk-container-id-1 div.sk-serial::before {content: \"\";position: absolute;border-left: 1px solid gray;box-sizing: border-box;top: 0;bottom: 0;left: 50%;z-index: 0;}#sk-container-id-1 div.sk-serial {display: flex;flex-direction: column;align-items: center;background-color: white;padding-right: 0.2em;padding-left: 0.2em;position: relative;}#sk-container-id-1 div.sk-item {position: relative;z-index: 1;}#sk-container-id-1 div.sk-parallel {display: flex;align-items: stretch;justify-content: center;background-color: white;position: relative;}#sk-container-id-1 div.sk-item::before, #sk-container-id-1 div.sk-parallel-item::before {content: \"\";position: absolute;border-left: 1px solid gray;box-sizing: border-box;top: 0;bottom: 0;left: 50%;z-index: -1;}#sk-container-id-1 div.sk-parallel-item {display: flex;flex-direction: column;z-index: 1;position: relative;background-color: white;}#sk-container-id-1 div.sk-parallel-item:first-child::after {align-self: flex-end;width: 50%;}#sk-container-id-1 div.sk-parallel-item:last-child::after {align-self: flex-start;width: 50%;}#sk-container-id-1 div.sk-parallel-item:only-child::after {width: 0;}#sk-container-id-1 div.sk-dashed-wrapped {border: 1px dashed gray;margin: 0 0.4em 0.5em 0.4em;box-sizing: border-box;padding-bottom: 0.4em;background-color: white;}#sk-container-id-1 div.sk-label label {font-family: monospace;font-weight: bold;display: inline-block;line-height: 1.2em;}#sk-container-id-1 div.sk-label-container {text-align: center;}#sk-container-id-1 div.sk-container {/* jupyter's `normalize.less` sets `[hidden] { display: none; }` but bootstrap.min.css set `[hidden] { display: none !important; }` so we also need the `!important` here to be able to override the default hidden behavior on the sphinx rendered scikit-learn.org. See: https://github.com/scikit-learn/scikit-learn/issues/21755 */display: inline-block !important;position: relative;}#sk-container-id-1 div.sk-text-repr-fallback {display: none;}</style><div id=\"sk-container-id-1\" class=\"sk-top-container\"><div class=\"sk-text-repr-fallback\"><pre>SGDClassifier(random_state=42)</pre><b>In a Jupyter environment, please rerun this cell to show the HTML representation or trust the notebook. <br />On GitHub, the HTML representation is unable to render, please try loading this page with nbviewer.org.</b></div><div class=\"sk-container\" hidden><div class=\"sk-item\"><div class=\"sk-estimator sk-toggleable\"><input class=\"sk-toggleable__control sk-hidden--visually\" id=\"sk-estimator-id-1\" type=\"checkbox\" checked><label for=\"sk-estimator-id-1\" class=\"sk-toggleable__label sk-toggleable__label-arrow\">SGDClassifier</label><div class=\"sk-toggleable__content\"><pre>SGDClassifier(random_state=42)</pre></div></div></div></div></div>"
          },
          "metadata": {}
        }
      ],
      "outputs_reference": null,
      "execution_count": 14,
      "block_group": "6cf6ab59ceec4485b9eca2ab4aa0e6af"
    },
    {
      "cell_type": "code",
      "source": "sdg.predict([somedigit])",
      "metadata": {
        "source_hash": "d3d95d3c",
        "execution_start": 1711623045446,
        "execution_millis": 72,
        "deepnote_to_be_reexecuted": false,
        "deepnote_app_block_visible": true,
        "cell_id": "4113d5cc8e5143529d169b9416c03bc2",
        "deepnote_cell_type": "code"
      },
      "outputs": [
        {
          "output_type": "execute_result",
          "execution_count": 15,
          "data": {
            "text/plain": "array([1])"
          },
          "metadata": {}
        }
      ],
      "outputs_reference": null,
      "execution_count": 15,
      "block_group": "f875aee73cad436bb10916b28f19bb07"
    },
    {
      "cell_type": "code",
      "source": "# performance measure\nfrom sklearn.model_selection import cross_val_score\ncross_val_score(sdg,x_train,y_train_5,cv=3,scoring='accuracy')",
      "metadata": {
        "source_hash": "57cebd18",
        "execution_start": 1711623045447,
        "execution_millis": 25987,
        "deepnote_to_be_reexecuted": false,
        "deepnote_app_block_visible": true,
        "cell_id": "5bc98e72b7af400c9d96712a3317f0a9",
        "deepnote_cell_type": "code"
      },
      "outputs": [
        {
          "output_type": "execute_result",
          "execution_count": 16,
          "data": {
            "text/plain": "array([0.95035, 0.96035, 0.9604 ])"
          },
          "metadata": {}
        }
      ],
      "outputs_reference": null,
      "execution_count": 16,
      "block_group": "e253d7b554fb4bdcb66a8e1e83572fab"
    },
    {
      "cell_type": "code",
      "source": "from sklearn.base import BaseEstimator\nclass Never5Classifier(BaseEstimator):\n    def fit(sel,x,y=None):\n        pass\n    def predict(sel,x):\n        return np.zeros((len(x),1),dtype=bool)",
      "metadata": {
        "source_hash": "f2a13ec0",
        "execution_start": 1711623180786,
        "execution_millis": 21,
        "deepnote_to_be_reexecuted": false,
        "deepnote_app_block_visible": true,
        "cell_id": "cb163ea18e9245ce817e6e1bc5b8a5a0",
        "deepnote_cell_type": "code"
      },
      "outputs": [],
      "outputs_reference": null,
      "execution_count": 17,
      "block_group": "1b5a3f3a6ae94e5b85098f36519504c8"
    },
    {
      "cell_type": "code",
      "source": "never_5_clf = Never5Classifier()\ncross_val_score(never_5_clf,x_train,y_train_5,cv=3,scoring='accuracy')",
      "metadata": {
        "source_hash": "44a3054",
        "execution_start": 1711623262750,
        "execution_millis": 424,
        "deepnote_to_be_reexecuted": false,
        "deepnote_app_block_visible": true,
        "cell_id": "041ab30247df4a60ac9d606e2fc37c96",
        "deepnote_cell_type": "code"
      },
      "outputs": [
        {
          "output_type": "execute_result",
          "execution_count": 18,
          "data": {
            "text/plain": "array([0.91125, 0.90855, 0.90915])"
          },
          "metadata": {}
        }
      ],
      "outputs_reference": null,
      "execution_count": 18,
      "block_group": "0e6136ab9509474dbbb205cb45325733"
    },
    {
      "cell_type": "code",
      "source": "from sklearn.model_selection import cross_val_predict\ny_train_pred = cross_val_predict(sdg,x_train,y_train_5,cv=3)",
      "metadata": {
        "source_hash": "ac37eee2",
        "execution_start": 1711623591241,
        "execution_millis": 25298,
        "deepnote_to_be_reexecuted": false,
        "deepnote_app_block_visible": true,
        "cell_id": "b9d89c2ab1ca4fa4bd0219b993ac1642",
        "deepnote_cell_type": "code"
      },
      "outputs": [],
      "outputs_reference": null,
      "execution_count": 19,
      "block_group": "9b30aa7e448f4a67b7ce52c78fb32bf5"
    },
    {
      "cell_type": "markdown",
      "source": "# Confusion metrix",
      "metadata": {
        "formattedRanges": [],
        "deepnote_app_block_visible": true,
        "cell_id": "7b15b63bdaf94c3188475b11b90df6e7",
        "deepnote_cell_type": "text-cell-h1"
      },
      "block_group": "6922e199d7c042218838368a684d5fb0"
    },
    {
      "cell_type": "code",
      "source": "from sklearn.metrics import confusion_matrix\nconfusion_matrix(y_train_5,y_train_pred)",
      "metadata": {
        "source_hash": "71bee0fa",
        "execution_start": 1711623682530,
        "execution_millis": 49,
        "deepnote_to_be_reexecuted": false,
        "deepnote_app_block_visible": true,
        "cell_id": "e07ed61c84a54a50885316cdca508113",
        "deepnote_cell_type": "code"
      },
      "outputs": [
        {
          "output_type": "execute_result",
          "execution_count": 20,
          "data": {
            "text/plain": "array([[53892,   687],\n       [ 1891,  3530]])"
          },
          "metadata": {}
        }
      ],
      "outputs_reference": null,
      "execution_count": 20,
      "block_group": "e07ba2635c0a4c1dbcd41e519d40120d"
    },
    {
      "cell_type": "markdown",
      "source": "precision = TP/(TP+FP)\nrecall = TP/(TP+FN)",
      "metadata": {
        "deepnote_app_block_visible": true,
        "cell_id": "14af256828f64f37b5cc052a14192ae4",
        "deepnote_cell_type": "markdown"
      },
      "block_group": "c9e53bbff8da4d5f83ca2f081eb345bc"
    },
    {
      "cell_type": "code",
      "source": "from sklearn.metrics import precision_score, recall_score,f1_score\nprecision_score(y_train_5,y_train_pred)",
      "metadata": {
        "source_hash": "9c4fc588",
        "execution_start": 1711624321058,
        "execution_millis": 59,
        "deepnote_to_be_reexecuted": false,
        "deepnote_app_block_visible": true,
        "cell_id": "64af7e0a5fcc4fa3af650902277e2cb9",
        "deepnote_cell_type": "code"
      },
      "outputs": [
        {
          "output_type": "execute_result",
          "execution_count": 26,
          "data": {
            "text/plain": "0.8370879772350012"
          },
          "metadata": {}
        }
      ],
      "outputs_reference": null,
      "execution_count": 26,
      "block_group": "8e785502a074448f828ee9ec18b0c735"
    },
    {
      "cell_type": "code",
      "source": "recall_score(y_train_5,y_train_pred)",
      "metadata": {
        "source_hash": "e149f30",
        "execution_start": 1711624262931,
        "execution_millis": 90,
        "deepnote_to_be_reexecuted": false,
        "deepnote_app_block_visible": true,
        "cell_id": "861451f017df471a882f34506d5fdace",
        "deepnote_cell_type": "code"
      },
      "outputs": [
        {
          "output_type": "execute_result",
          "execution_count": 25,
          "data": {
            "text/plain": "0.6511713705958311"
          },
          "metadata": {}
        }
      ],
      "outputs_reference": null,
      "execution_count": 25,
      "block_group": "46a52657354643e480c3aabe84ae7f70"
    },
    {
      "cell_type": "code",
      "source": "f1_score(y_train_5,y_train_pred)",
      "metadata": {
        "source_hash": "b5587b6e",
        "execution_start": 1711624347584,
        "execution_millis": 90,
        "deepnote_to_be_reexecuted": false,
        "deepnote_app_block_visible": true,
        "cell_id": "5906e1c002e24597ab5649563eadc531",
        "deepnote_cell_type": "code"
      },
      "outputs": [
        {
          "output_type": "execute_result",
          "execution_count": 27,
          "data": {
            "text/plain": "0.7325171197343846"
          },
          "metadata": {}
        }
      ],
      "outputs_reference": null,
      "execution_count": 27,
      "block_group": "64c0882e3216408fbee9a974fdf91211"
    },
    {
      "cell_type": "code",
      "source": "y_score = cross_val_predict(sdg,x_train,y_train_5,cv=3,method='decision_function')",
      "metadata": {
        "source_hash": "24b7361a",
        "execution_start": 1711624722566,
        "execution_millis": 50908,
        "deepnote_to_be_reexecuted": false,
        "deepnote_app_block_visible": true,
        "cell_id": "e160a3278e3142fd88bc23cb789356b9",
        "deepnote_cell_type": "code"
      },
      "outputs": [],
      "outputs_reference": null,
      "execution_count": 28,
      "block_group": "2685791668bd4367ac12f9fd8ca9a255"
    },
    {
      "cell_type": "code",
      "source": "from sklearn.metrics import precision_recall_curve\nprecision, recall, theshold = precision_recall_curve(y_train_5,y_score) ",
      "metadata": {
        "source_hash": "c7c067c6",
        "execution_start": 1711625055307,
        "execution_millis": 66,
        "deepnote_to_be_reexecuted": false,
        "deepnote_app_block_visible": true,
        "cell_id": "cd1f1b1dce8f42208842fcba0fc462c5",
        "deepnote_cell_type": "code"
      },
      "outputs": [],
      "outputs_reference": null,
      "execution_count": 30,
      "block_group": "1de3be25c4a7433882b0f5c86bd6a7c7"
    },
    {
      "cell_type": "code",
      "source": "recall_90_per = recall[np.argmax(precision >= 0.90)]\nthreshold_90_per = theshold[np.argmax(precision >= 0.90)]",
      "metadata": {
        "source_hash": "280a2578",
        "execution_start": 1711628516907,
        "execution_millis": 10,
        "deepnote_to_be_reexecuted": false,
        "deepnote_app_block_visible": true,
        "cell_id": "2fe9fea0c5f94911bb9cc6b81c75d5b1",
        "deepnote_cell_type": "code"
      },
      "outputs": [],
      "outputs_reference": null,
      "execution_count": 81,
      "block_group": "23adf2d25fee40268aebaaa2771c351d"
    },
    {
      "cell_type": "code",
      "source": "def precision_recall_vs_threshold(precision,recall,threshold):\n    plt.figure(figsize=(18,7))\n    plt.plot(threshold,precision[:-1],'b--',label='Precision',linewidth=3)\n    plt.plot(threshold,recall[:-1],'g-',label='Recall',linewidth=3)\n    plt.xlim(-50000,50000)\n    plt.ylim(0,1)\n    plt.xticks([-40000, -20000, 0, 20000, 40000], ['-4', '-2', '0', '2', '4'],fontsize=20)\n    plt.yticks(fontsize=15,color='r')\nprecision_recall_vs_threshold(precision,recall,theshold)\nplt.xlabel('Threshold',fontsize=15)\nplt.title('precision_recall_vs_threshold',fontsize=30,color='y')\nplt.legend(loc='center right',fontsize=25,shadow=True,labelcolor=['b','g'])\nplt.grid()\nplt.text(x=-30000,y=0.6,s='x-axis multyply by 10000', fontsize=12,color='r')\n# highlight threshold\nplt.plot([threshold_90_per, threshold_90_per], [0., 0.9], \"r:\")                 # Not shown\nplt.plot([-50000, threshold_90_per], [0.9, 0.9], \"r:\")                          # Not shown\nplt.plot([-50000, threshold_90_per], [recall_90_per, recall_90_per], \"r:\")      # Not shown\nplt.plot([threshold_90_per], [0.9], \"ro\")                                       # Not shown\nplt.plot([threshold_90_per], [recall_90_per], \"ro\")   \nplt.show()",
      "metadata": {
        "source_hash": "ee3e5d4a",
        "execution_start": 1711628720290,
        "execution_millis": 537,
        "deepnote_to_be_reexecuted": false,
        "deepnote_app_block_visible": true,
        "cell_id": "d1255d6fc77b49ce8160e6fd3fc598ca",
        "deepnote_cell_type": "code"
      },
      "outputs": [
        {
          "data": {
            "text/plain": "<Figure size 1800x700 with 1 Axes>",
            "image/png": "[encoded data removed]"
          },
          "metadata": {
            "image/png": {
              "width": 1457,
              "height": 665
            }
          },
          "output_type": "display_data"
        }
      ],
      "outputs_reference": null,
      "execution_count": 83,
      "block_group": "ec68544296af49639345a08fa99a756b"
    },
    {
      "cell_type": "code",
      "source": "plt.plot(recall,precision,'b-')\nplt.axis([0,1,0,1])\nplt.plot([recall_90_per,recall_90_per],[0.,0.9],'r:')\nplt.plot([0.0,recall_90_per],[0.9,0.9],'r:')\nplt.plot([recall_90_per],[0.9],'ro')\nplt.grid(True)\nplt.show()",
      "metadata": {
        "source_hash": "91194c03",
        "execution_start": 1711629417227,
        "execution_millis": 229,
        "deepnote_to_be_reexecuted": false,
        "deepnote_app_block_visible": true,
        "cell_id": "178d0f945d0244028c1b40a557a3ec1a",
        "deepnote_cell_type": "code"
      },
      "outputs": [
        {
          "data": {
            "text/plain": "<Figure size 640x480 with 1 Axes>",
            "image/png": "[encoded data removed]"
          },
          "metadata": {
            "image/png": {
              "width": 558,
              "height": 418
            }
          },
          "output_type": "display_data"
        }
      ],
      "outputs_reference": null,
      "execution_count": 93,
      "block_group": "878150eb4e1c43d1b724dd700c2670d5"
    },
    {
      "cell_type": "code",
      "source": "thresholds_90_precision = theshold[np.argmax(precision >= 0.90)]\ny_train_pred_90=(y_score >= thresholds_90_precision)",
      "metadata": {
        "source_hash": "df20761c",
        "execution_start": 1711629594922,
        "execution_millis": 92,
        "deepnote_to_be_reexecuted": false,
        "deepnote_app_block_visible": true,
        "cell_id": "147bb42e4d364c588823e53d48e2656e",
        "deepnote_cell_type": "code"
      },
      "outputs": [],
      "outputs_reference": null,
      "execution_count": 94,
      "block_group": "b7156c0ef72c47c3acfe5e54f0900e0b"
    },
    {
      "cell_type": "code",
      "source": "precision_score(y_train_5,y_train_pred_90)",
      "metadata": {
        "source_hash": "e7271208",
        "execution_start": 1711629645871,
        "execution_millis": 99,
        "deepnote_to_be_reexecuted": false,
        "deepnote_app_block_visible": true,
        "cell_id": "f8622b0885024355bd0cbc158ed42c7b",
        "deepnote_cell_type": "code"
      },
      "outputs": [
        {
          "output_type": "execute_result",
          "execution_count": 95,
          "data": {
            "text/plain": "0.9000345901072293"
          },
          "metadata": {}
        }
      ],
      "outputs_reference": null,
      "execution_count": 95,
      "block_group": "56fea54649a7472b8e1b40e1d9bcba82"
    },
    {
      "cell_type": "code",
      "source": "recall_score(y_train_5,y_train_pred_90)",
      "metadata": {
        "source_hash": "aa927370",
        "execution_start": 1711629686359,
        "execution_millis": 98,
        "deepnote_to_be_reexecuted": false,
        "deepnote_app_block_visible": true,
        "cell_id": "40243813135941bcb47c5133d4d5598b",
        "deepnote_cell_type": "code"
      },
      "outputs": [
        {
          "output_type": "execute_result",
          "execution_count": 96,
          "data": {
            "text/plain": "0.4799852425751706"
          },
          "metadata": {}
        }
      ],
      "outputs_reference": null,
      "execution_count": 96,
      "block_group": "53171668b6ee464386398e02a6128901"
    },
    {
      "cell_type": "markdown",
      "source": "# Roc curve ",
      "metadata": {
        "formattedRanges": [],
        "deepnote_app_block_visible": true,
        "cell_id": "11253a7f0f46476793207242bedb600d",
        "deepnote_cell_type": "text-cell-h1"
      },
      "block_group": "0892fca71b1143e9a5c7cf24762d217c"
    },
    {
      "cell_type": "markdown",
      "source": "another type of binary classifiers",
      "metadata": {
        "formattedRanges": [],
        "deepnote_app_block_visible": true,
        "cell_id": "e1ac1887d0d74a198696e0de1f90f2f6",
        "deepnote_cell_type": "text-cell-p"
      },
      "block_group": "169c203da3a74d6c8985ed9e9b51ac46"
    },
    {
      "cell_type": "markdown",
      "source": "<a style='text-decoration:none;line-height:16px;display:flex;color:#5B5B62;padding:10px;justify-content:end;' href='https://deepnote.com?utm_source=created-in-deepnote-cell&projectId=9fcb408c-257d-4664-b332-b72bf303ace4' target=\"_blank\">\n<img alt='Created in deepnote.com' style='display:inline;max-height:16px;margin:0px;margin-right:7.5px;' src='data:image/svg+xml;base64,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' > </img>\nCreated in <span style='font-weight:600;margin-left:4px;'>Deepnote</span></a>",
      "metadata": {
        "created_in_deepnote_cell": true,
        "deepnote_cell_type": "markdown"
      }
    }
  ],
  "nbformat": 4,
  "nbformat_minor": 0,
  "metadata": {
    "deepnote_persisted_session": {
      "createdAt": "2024-03-28T10:15:26.060Z"
    },
    "deepnote_app_layout": "powerful-article",
    "deepnote_app_reactivity_enabled": true,
    "deepnote_notebook_id": "cce9fd1ebd584ba0bf2318b9b4e85216",
    "deepnote_execution_queue": []
  }
}